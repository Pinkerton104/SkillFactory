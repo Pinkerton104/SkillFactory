{
 "cells": [
  {
   "cell_type": "code",
   "execution_count": 2,
   "metadata": {},
   "outputs": [
    {
     "name": "stdout",
     "output_type": "stream",
     "text": [
      "Ваш алгоритм угадывает число в среднем за 5 попыток\n"
     ]
    },
    {
     "data": {
      "text/plain": [
       "5"
      ]
     },
     "execution_count": 2,
     "metadata": {},
     "output_type": "execute_result"
    }
   ],
   "source": [
    "def score_game(game_core):\n",
    "    '''Запускаем игру 1000 раз, чтобы узнать, как быстро игра угадывает число'''\n",
    "    import numpy as np\n",
    "    count_ls = []\n",
    "    np.random.seed(1)  # фиксируем RANDOM SEED, чтобы ваш эксперимент был воспроизводим!\n",
    "    random_array = np.random.randint(1,101, size=(1000))\n",
    "    for number in random_array:\n",
    "        count_ls.append(game_core(number))\n",
    "    score = int(np.mean(count_ls))\n",
    "    print(f\"Ваш алгоритм угадывает число в среднем за {score} попыток\")\n",
    "    return(score)\n",
    "\n",
    "\n",
    "def game_core_v3(number):\n",
    "    '''Сначала предполагаем, что число - середина возможного интервала, а потом в зависимости от того, больше оно или меньше\n",
    "       меняем границы интервала и предполагаем, что чаило - середина нового интервала.\n",
    "       Функция принимает загаданное число и возвращает число попыток'''\n",
    "    count = 1\n",
    "    max_num = 101 # устанавливаем верхнюю границу интервала.\n",
    "    min_num = 0 # устанавливаем нижнюю границу интервала.\n",
    "    predict = (max_num + min_num) // 2 # предполагаем середину интервала от min_num до max_num, берем целую часть от числа.\n",
    "    while number != predict:\n",
    "        count += 1\n",
    "        if number > predict: \n",
    "            min_num = predict # меняем нижнюю границу интервала.\n",
    "            predict = (max_num + min_num) // 2\n",
    "        elif number < predict: \n",
    "            max_num = predict # меняем верхнюю границу интервала.\n",
    "            predict = (max_num + min_num) // 2\n",
    "    return(count) # выход из цикла, если угадали.\n",
    "\n",
    "\n",
    "score_game(game_core_v3)"
   ]
  },
  {
   "cell_type": "code",
   "execution_count": null,
   "metadata": {},
   "outputs": [],
   "source": []
  }
 ],
 "metadata": {
  "kernelspec": {
   "display_name": "Python 3",
   "language": "python",
   "name": "python3"
  },
  "language_info": {
   "codemirror_mode": {
    "name": "ipython",
    "version": 3
   },
   "file_extension": ".py",
   "mimetype": "text/x-python",
   "name": "python",
   "nbconvert_exporter": "python",
   "pygments_lexer": "ipython3",
   "version": "3.8.3"
  }
 },
 "nbformat": 4,
 "nbformat_minor": 4
}
